{
 "cells": [
  {
   "cell_type": "code",
   "execution_count": 5,
   "metadata": {
    "collapsed": true
   },
   "outputs": [],
   "source": [
    "import numpy as np\n",
    "import pandas as pd\n",
    "import matplotlib.pyplot as plt\n",
    "import math\n",
    "from collections import defaultdict"
   ]
  },
  {
   "cell_type": "code",
   "execution_count": 7,
   "metadata": {},
   "outputs": [],
   "source": [
    "def l1_norm(x1, x2):\n",
    "    return np.sum(np.abs(x1 - x2), axis=1)\n",
    "\n",
    "def l2_norm(x1, x2):\n",
    "    return np.sqrt(np.sum(np.square(x1 - x2), axis=1))\n",
    " \n",
    "def f(x, y):\n",
    "    return y if 1 > x > 0 else 0  \n",
    "\n",
    "def simple(x):\n",
    "    return x\n",
    "\n",
    "def cosine(x):\n",
    "    return f(x, math.pi / 4 * math.cos(x / 2 * math.pi))\n",
    "\n",
    "#TODO: def gauss, kd-tree, tk-fold\n",
    "\n",
    "def f1_score(pred, real):\n",
    "    metrics = calculate_metrics(pred, real)\n",
    "    precision = metrics[\"TP\"] / (metrics[\"P\"])\n",
    "    recall = metrics[\"TP\"] / (metrics[\"TP\"] + metrics[\"FN\"])\n",
    "    return 2 * precision * recall / (precision + recall)\n",
    "\n",
    "def calculate_metrics(pred, real):\n",
    "    metrics = {\n",
    "        \"TP\": 0,\n",
    "        \"FP\": 0,\n",
    "        \"TN\": 0,\n",
    "        \"FN\": 0\n",
    "    }\n",
    "    for (p, r) in zip(pred, real):\n",
    "        if r == 1:\n",
    "            metrics[\"TP\" if p == 1 else \"FN\"] += 1\n",
    "        if r == 0:\n",
    "            metrics[\"FP\" if p == 1 else \"TN\"] += 1\n",
    "    metrics[\"P\"] = metrics[\"TP\"] + metrics[\"FP\"]\n",
    "    metrics[\"N\"] = metrics[\"TN\"] + metrics[\"FN\"]\n",
    "    return metrics\n",
    "\n",
    "def mode(arr):\n",
    "    app = defaultdict(int)\n",
    "    m, c = 0, 0\n",
    "    for e in arr:\n",
    "        app[e] += 1\n",
    "        if app[e] > c:\n",
    "            c = app[e]\n",
    "            m = e\n",
    "    return m       \n",
    "\n",
    "\n",
    "class KNN:\n",
    "    def __init__(self, metric=l2_norm, kernel=simple):\n",
    "        self.metric = metric\n",
    "        self.kernel = kernel\n",
    "\n",
    "    def train(self, X, y):\n",
    "        self.Xtr = X\n",
    "        self.ytr = y\n",
    "\n",
    "    def predict(self, k, X, kernel=cosine):\n",
    "        num_tests = X.shape[0]\n",
    "        y_pred = np.zeros(num_tests, dtype=self.ytr.dtype)\n",
    "        for i in range(num_tests):\n",
    "            ranges = self.kernel(self.metric(self.Xtr, X[i, :]))\n",
    "            best_k = np.take(self.ytr, np.argpartition(ranges, k, axis=0)[:k])\n",
    "            y_pred[i] = mode(best_k)\n",
    "        return y_pred"
   ]
  },
  {
   "cell_type": "code",
   "execution_count": 8,
   "metadata": {},
   "outputs": [],
   "source": [
    "def best_k(X, y, metric=l2_norm, folds=8, kernel=simple):\n",
    "    sample = np.c_[X, y]\n",
    "    res = {}\n",
    "    np.random.shuffle(sample)\n",
    "    arrays = np.array_split(sample, folds)\n",
    "    for fold in range(0, folds): \n",
    "        X_val = arrays[fold][:, : -1]\n",
    "        Y_val = arrays[fold][:, -1]\n",
    "        X_tr = np.delete(arrays, fold)\n",
    "        Y_tr = np.delete(arrays, fold)\n",
    "        X_tr, Y_tr = np.concatenate(X_tr)[:, : -1], np.concatenate(Y_tr)[:, -1]\n",
    "        for k in range(2, 55):\n",
    "            knn = KNN(metric, kernel)\n",
    "            knn.train(X_tr, Y_tr)\n",
    "            res[k] = res.get(k, 0) + f1_score(knn.predict(k, X_val), Y_val) / folds\n",
    "    return res"
   ]
  },
  {
   "cell_type": "code",
   "execution_count": 13,
   "metadata": {},
   "outputs": [],
   "source": [
    "chips = pd.read_csv('chips.txt', header=None)\n",
    "chips = chips.sample(frac=1).reset_index(drop=True)\n",
    "chips[3] = chips[0] ** 2 + chips[1] ** 2\n",
    "train_to = 90\n",
    "\n",
    "X, y = chips.loc[:train_to, [0, 1, 3]].as_matrix(), chips.loc[:train_to, [2]].as_matrix()\n",
    "for c in chips.as_matrix():\n",
    "    if c[2] == 1:\n",
    "        plt.plot(c[0], c[1], 'rx')\n",
    "    else:\n",
    "        plt.plot(c[0], c[1], 'bo')\n",
    "plt.show()"
   ]
  },
  {
   "cell_type": "code",
   "execution_count": 11,
   "metadata": {},
   "outputs": [
    {
     "name": "stdout",
     "output_type": "stream",
     "text": [
      "0.7058823529411764\n"
     ]
    }
   ],
   "source": [
    "def argmax(d):\n",
    "    v = list(d.values())\n",
    "    k = list(d.keys())\n",
    "    return k[v.index(max(v))]\n",
    "\n",
    "ks = best_k(X, y)\n",
    "k = argmax(ks)\n",
    "knn = KNN(l2_norm)\n",
    "knn.train(X, y)\n",
    "X_test, y_test = chips.loc[train_to:, [0, 1, 3]].as_matrix(), chips.loc[train_to:, [2]].as_matrix()\n",
    "print(f1_score(knn.predict(k, X_test), y_test))\n",
    "plt.plot(list(ks.keys()), list(ks.values()))\n",
    "plt.show()"
   ]
  },
  {
   "cell_type": "code",
   "execution_count": 13,
   "metadata": {},
   "outputs": [
    {
     "name": "stdout",
     "output_type": "stream",
     "text": [
      "0.8387096774193549\n"
     ]
    }
   ],
   "source": [
    "ks = best_k(X, y, metric=l1_norm)\n",
    "k2 = argmax(ks)\n",
    "knn = KNN(l1_norm)\n",
    "knn.train(X,y)\n",
    "print(f1_score(knn.predict(k2, X_test), y_test))\n",
    "plt.show(plt.plot(list(ks.keys()), list(ks.values())))"
   ]
  },
  {
   "cell_type": "code",
   "execution_count": null,
   "metadata": {},
   "outputs": [],
   "source": [
    ""
   ]
  }
 ],
 "metadata": {
  "kernelspec": {
   "display_name": "Python 2",
   "language": "python",
   "name": "python2"
  },
  "language_info": {
   "codemirror_mode": {
    "name": "ipython",
    "version": 2.0
   },
   "file_extension": ".py",
   "mimetype": "text/x-python",
   "name": "python",
   "nbconvert_exporter": "python",
   "pygments_lexer": "ipython2",
   "version": "2.7.6"
  }
 },
 "nbformat": 4,
 "nbformat_minor": 0
}