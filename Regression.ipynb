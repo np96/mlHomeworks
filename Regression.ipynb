{
 "cells": [
  {
   "cell_type": "code",
   "execution_count": 34,
   "metadata": {
    "collapsed": true
   },
   "outputs": [],
   "source": [
    "import numpy as np\n",
    "import pandas as pd\n",
    "from linear_regression import LinearRegression\n",
    "import matplotlib.pyplot as plt\n",
    "from mpl_toolkits.mplot3d import Axes3D"
   ]
  },
  {
   "cell_type": "code",
   "execution_count": 3,
   "metadata": {
    "collapsed": true
   },
   "outputs": [],
   "source": [
    "def preprocess_data(df):\n",
    "    df['area_rooms'] = np.sqrt(df.area * df.rooms)\n",
    "    df['log_price'] = np.log(df['price'])"
   ]
  },
  {
   "cell_type": "code",
   "execution_count": 4,
   "metadata": {
    "collapsed": false
   },
   "outputs": [
    {
     "data": {
      "text/html": [
       "<div>\n",
       "<style>\n",
       "    .dataframe thead tr:only-child th {\n",
       "        text-align: right;\n",
       "    }\n",
       "\n",
       "    .dataframe thead th {\n",
       "        text-align: left;\n",
       "    }\n",
       "\n",
       "    .dataframe tbody tr th {\n",
       "        vertical-align: top;\n",
       "    }\n",
       "</style>\n",
       "<table border=\"1\" class=\"dataframe\">\n",
       "  <thead>\n",
       "    <tr style=\"text-align: right;\">\n",
       "      <th></th>\n",
       "      <th>area</th>\n",
       "      <th>rooms</th>\n",
       "      <th>price</th>\n",
       "      <th>area_rooms</th>\n",
       "      <th>log_area</th>\n",
       "      <th>log_price</th>\n",
       "    </tr>\n",
       "  </thead>\n",
       "  <tbody>\n",
       "    <tr>\n",
       "      <th>0</th>\n",
       "      <td>1890.0</td>\n",
       "      <td>3.0</td>\n",
       "      <td>329999.0</td>\n",
       "      <td>5670.0</td>\n",
       "      <td>1890.0</td>\n",
       "      <td>12.706845</td>\n",
       "    </tr>\n",
       "    <tr>\n",
       "      <th>1</th>\n",
       "      <td>1437.0</td>\n",
       "      <td>3.0</td>\n",
       "      <td>249900.0</td>\n",
       "      <td>4311.0</td>\n",
       "      <td>1437.0</td>\n",
       "      <td>12.428816</td>\n",
       "    </tr>\n",
       "    <tr>\n",
       "      <th>2</th>\n",
       "      <td>1203.0</td>\n",
       "      <td>3.0</td>\n",
       "      <td>239500.0</td>\n",
       "      <td>3609.0</td>\n",
       "      <td>1203.0</td>\n",
       "      <td>12.386309</td>\n",
       "    </tr>\n",
       "    <tr>\n",
       "      <th>3</th>\n",
       "      <td>1852.0</td>\n",
       "      <td>4.0</td>\n",
       "      <td>299900.0</td>\n",
       "      <td>7408.0</td>\n",
       "      <td>1852.0</td>\n",
       "      <td>12.611204</td>\n",
       "    </tr>\n",
       "    <tr>\n",
       "      <th>4</th>\n",
       "      <td>2637.0</td>\n",
       "      <td>3.0</td>\n",
       "      <td>299900.0</td>\n",
       "      <td>7911.0</td>\n",
       "      <td>2637.0</td>\n",
       "      <td>12.611204</td>\n",
       "    </tr>\n",
       "  </tbody>\n",
       "</table>\n",
       "</div>"
      ],
      "text/plain": [
       "<div>\n",
       "<style>\n",
       "    .dataframe thead tr:only-child th {\n",
       "        text-align: right;\n",
       "    }\n",
       "\n",
       "    .dataframe thead th {\n",
       "        text-align: left;\n",
       "    }\n",
       "\n",
       "    .dataframe tbody tr th {\n",
       "        vertical-align: top;\n",
       "    }\n",
       "</style>\n",
       "<table border=\"1\" class=\"dataframe\">\n",
       "  <thead>\n",
       "    <tr style=\"text-align: right;\">\n",
       "      <th></th>\n",
       "      <th>area</th>\n",
       "      <th>rooms</th>\n",
       "      <th>price</th>\n",
       "      <th>area_rooms</th>\n",
       "      <th>log_area</th>\n",
       "      <th>log_price</th>\n",
       "    </tr>\n",
       "  </thead>\n",
       "  <tbody>\n",
       "    <tr>\n",
       "      <th>0</th>\n",
       "      <td>1890.0</td>\n",
       "      <td>3.0</td>\n",
       "      <td>329999.0</td>\n",
       "      <td>5670.0</td>\n",
       "      <td>1890.0</td>\n",
       "      <td>12.706845</td>\n",
       "    </tr>\n",
       "    <tr>\n",
       "      <th>1</th>\n",
       "      <td>1437.0</td>\n",
       "      <td>3.0</td>\n",
       "      <td>249900.0</td>\n",
       "      <td>4311.0</td>\n",
       "      <td>1437.0</td>\n",
       "      <td>12.428816</td>\n",
       "    </tr>\n",
       "    <tr>\n",
       "      <th>2</th>\n",
       "      <td>1203.0</td>\n",
       "      <td>3.0</td>\n",
       "      <td>239500.0</td>\n",
       "      <td>3609.0</td>\n",
       "      <td>1203.0</td>\n",
       "      <td>12.386309</td>\n",
       "    </tr>\n",
       "    <tr>\n",
       "      <th>3</th>\n",
       "      <td>1852.0</td>\n",
       "      <td>4.0</td>\n",
       "      <td>299900.0</td>\n",
       "      <td>7408.0</td>\n",
       "      <td>1852.0</td>\n",
       "      <td>12.611204</td>\n",
       "    </tr>\n",
       "    <tr>\n",
       "      <th>4</th>\n",
       "      <td>2637.0</td>\n",
       "      <td>3.0</td>\n",
       "      <td>299900.0</td>\n",
       "      <td>7911.0</td>\n",
       "      <td>2637.0</td>\n",
       "      <td>12.611204</td>\n",
       "    </tr>\n",
       "  </tbody>\n",
       "</table>\n",
       "</div>"
      ]
     },
     "execution_count": 4,
     "metadata": {},
     "output_type": "execute_result"
    }
   ],
   "source": [
    "df = pd.read_csv('prices.txt', dtype=np.float64)\n",
    "df = df.sample(frac=1).reset_index(drop=True)\n",
    "prices = df['price']\n",
    "preprocess_data(df)\n",
    "df.head()"
   ]
  },
  {
   "cell_type": "code",
   "execution_count": 6,
   "metadata": {
    "collapsed": false,
    "scrolled": true
   },
   "outputs": [],
   "source": [
    "plt.figure(num=None, figsize=(12, 6), dpi=80, facecolor='w', edgecolor='k')\n",
    "plt.subplot(2, 3, 1)\n",
    "plt.xlabel('sqrt area * rooms')\n",
    "plt.plot(list(np.sqrt(df.area_rooms)), list(df.log_price), 'bo')\n",
    "plt.subplot(2, 3, 2)\n",
    "plt.xlabel('rooms')\n",
    "plt.plot(list(df.rooms), list(df.log_price), 'bo')\n",
    "plt.subplot(2, 3, 3)\n",
    "plt.xlabel('area')\n",
    "plt.plot(list(df.area), list(df.log_price), 'bo')\n",
    "plt.subplot(2, 3, 4)\n",
    "plt.xlabel('log area')\n",
    "plt.plot(list(np.log(df.area)), list(df.log_price), 'bo')\n",
    "plt.subplot(2, 3, 5)\n",
    "plt.xlabel('sqrt area')\n",
    "plt.plot(list(np.sqrt(df.area)), list(df.log_price), 'bo')\n",
    "plt.show()"
   ]
  },
  {
   "cell_type": "code",
   "execution_count": 31,
   "metadata": {
    "collapsed": true
   },
   "outputs": [],
   "source": [
    "def score(y_pred, y_true):\n",
    "    return np.mean((y_pred - y_true) ** 2) ** 0.5"
   ]
  },
  {
   "cell_type": "code",
   "execution_count": 80,
   "metadata": {},
   "outputs": [
    {
     "name": "stdout",
     "output_type": "stream",
     "text": [
      "[[ 87669.16545727  -3665.52997963    131.4952628 ]]\nTest score:  58804.211438\n"
     ]
    }
   ],
   "source": [
    "reg = LinearRegression(False, 0)\n",
    "train_to = 42\n",
    "X, y = df.loc[:train_to, ['rooms', 'area']].as_matrix(), df.loc[:train_to, ['price']].as_matrix()\n",
    "Xt, yt = df.loc[train_to:, ['rooms', 'area']].as_matrix(), df.loc[train_to:, ['price']].as_matrix()\n",
    "maxRooms = float(max(X[:,0]))\n",
    "maxArea = float(max(X[:, 1]))\n",
    "maxPrice = max(y)\n",
    "X[:, 0] = X[:, 0] / maxRooms\n",
    "X[:, 1] = X[:, 1] / maxArea\n",
    "y = y / maxPrice\n",
    "reg.fit(X, y)\n",
    "reg.weights[0][0] *= maxPrice\n",
    "reg.weights[0][1] *= maxPrice/maxRooms\n",
    "reg.weights[0][2] *= maxPrice/maxArea\n",
    "y = y * maxPrice\n",
    "print(reg.weights)\n",
    "Xt = np.c_[np.ones((Xt.shape[0], 1)), Xt]\n",
    "print('Test score: ', score(np.dot(Xt, reg.weights.T), yt))\n",
    "fig = plt.figure()\n",
    "ax = fig.add_subplot(211, projection='3d')\n",
    "ax.scatter(X[:, 0], X[:, 1], y)\n",
    "X[:, 0] = X[:, 0] * maxRooms\n",
    "X[:, 1] = X[:, 1] * maxArea\n",
    "X = np.c_[np.ones((X.shape[0], 1)), X]\n",
    "ax2 = fig.add_subplot(212, projection='3d')\n",
    "ax2.scatter(X[:, 1], X[:, 2], np.dot(X, reg.weights.T))\n",
    "plt.show()"
   ]
  },
  {
   "cell_type": "code",
   "execution_count": 22,
   "metadata": {},
   "outputs": [
    {
     "name": "stdout",
     "output_type": "stream",
     "text": [
      "[[ 92301.89160212  -3666.5637514     130.37743339]]\n64887.4946275\n72683.7649132\n"
     ]
    }
   ],
   "source": [
    "reg2 = LinearRegression(False, 0, 'exact')\n",
    "train_to = 40\n",
    "X, y = df.loc[:train_to, ['rooms', 'area']].as_matrix(), df.loc[:train_to, ['price']].as_matrix()\n",
    "Xt, yt = df.loc[train_to:, ['rooms', 'area']].as_matrix(), df.loc[train_to:, ['price']].as_matrix()\n",
    "reg2.fit(X, y)\n",
    "X = np.c_[np.ones((X.shape[0], 1)), X]\n",
    "Xt = np.c_[np.ones((Xt.shape[0], 1)), Xt]\n",
    "print(reg2.weights)\n",
    "print('Test score', score(np.dot(X, reg2.weights.T), y))\n",
    "print('Train score', score(np.dot(Xt, reg2.weights.T), yt))"
   ]
  },
  {
   "cell_type": "code",
   "execution_count": 78,
   "metadata": {},
   "outputs": [
    {
     "ename": "IndexError",
     "evalue": "list index out of range",
     "traceback": [
      "\u001b[0;31m\u001b[0m",
      "\u001b[0;31mIndexError\u001b[0mTraceback (most recent call last)",
      "\u001b[0;32m<ipython-input-78-5fd293755e99>\u001b[0m in \u001b[0;36m<module>\u001b[0;34m()\u001b[0m\n\u001b[0;32m----> 1\u001b[0;31m \u001b[0mX\u001b[0m\u001b[0;34m[\u001b[0m\u001b[0;36m1\u001b[0m\u001b[0;34m]\u001b[0m\u001b[0;34m\u001b[0m\u001b[0m\n\u001b[0m",
      "\u001b[0;31mIndexError\u001b[0m: list index out of range"
     ],
     "output_type": "error"
    }
   ],
   "source": [
    "X[1]"
   ]
  }
 ],
 "metadata": {
  "anaconda-cloud": {},
  "kernelspec": {
   "display_name": "Python [conda root]",
   "language": "python",
   "name": "conda-root-py"
  },
  "language_info": {
   "codemirror_mode": {
    "name": "ipython",
    "version": 3.0
   },
   "file_extension": ".py",
   "mimetype": "text/x-python",
   "name": "python",
   "nbconvert_exporter": "python",
   "pygments_lexer": "ipython3",
   "version": "3.5.2"
  }
 },
 "nbformat": 4,
 "nbformat_minor": 0
}