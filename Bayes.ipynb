{
 "cells": [
  {
   "cell_type": "code",
   "execution_count": 1,
   "metadata": {
    "collapsed": true
   },
   "outputs": [],
   "source": [
    "%reload_ext autoreload\n",
    "%autoreload 2\n",
    "from itertools import chain\n",
    "from os import listdir\n",
    "from collections import defaultdict\n",
    "from NaiveBayes import MultinomialNaiveBayes\n",
    "from preprocessing import bag_of_words\n",
    "from sklearn.metrics import f1_score\n",
    "import matplotlib.pyplot as plt"
   ]
  },
  {
   "cell_type": "code",
   "execution_count": 2,
   "metadata": {
    "collapsed": true
   },
   "outputs": [],
   "source": [
    "folds = sorted([(int(a[4:]), []) for a in listdir('pu1/') if a[0] != '.'])"
   ]
  },
  {
   "cell_type": "code",
   "execution_count": 3,
   "metadata": {
    "collapsed": true
   },
   "outputs": [],
   "source": [
    "for fold in folds:\n",
    "    d = 'pu1/part{}/'.format(fold[0])\n",
    "    for f_name in listdir(d):\n",
    "        with open(d + f_name) as f:\n",
    "            lines = [line.rstrip('\\n') for line in f]\n",
    "            subj = lines[0].lstrip('Subject: ')\n",
    "            text = lines[2:][0]\n",
    "            fold[1].append([f_name.find('spm') >= 0, subj, text])\n",
    "folds = [l for (ignore, l) in folds]"
   ]
  },
  {
   "cell_type": "code",
   "execution_count": 4,
   "metadata": {
    "collapsed": true
   },
   "outputs": [],
   "source": [
    "bigfold = list(chain(*folds[1:]))"
   ]
  },
  {
   "cell_type": "code",
   "execution_count": 28,
   "metadata": {
    "collapsed": true
   },
   "outputs": [],
   "source": [
    "def make_test(num_test):\n",
    "    bigfold = list(chain(*folds[:num_test], *folds[num_test + 1:]))\n",
    "    test = folds[num_test]\n",
    "    texts = [bag_of_words(a[2]) for a in bigfold]\n",
    "    subjects = [bag_of_words(a[1]) for a in bigfold]\n",
    "    y = [a[0] for a in bigfold]\n",
    "    x = []\n",
    "    for (i, t) in enumerate(texts):\n",
    "        x.append({k: t.get(k, 0) + subjects[i].get(k, 0) * 1.2 for k in set(t) | set(subjects[i])})\n",
    "    test = folds[0]\n",
    "    t_text = [bag_of_words(a[2]) for a in test]\n",
    "    t_subj = [bag_of_words(a[1]) for a in test]\n",
    "    t_y = [a[0] for a in test]\n",
    "    t_x = []\n",
    "    for (i, t) in enumerate(t_text):\n",
    "        t_x.append({ k: t.get(k, 0) + t_subj[i].get(k, 0) * 1.2 for k in set(t) | set(t_subj[i]) })\n",
    "    return (x, y, t_x, t_y)"
   ]
  },
  {
   "cell_type": "code",
   "execution_count": 32,
   "metadata": {
    "collapsed": true
   },
   "outputs": [],
   "source": [
    "bord = -10000"
   ]
  },
  {
   "cell_type": "code",
   "execution_count": 38,
   "metadata": {},
   "outputs": [],
   "source": [
    "def score(X, y, bayes):\n",
    "        global bord\n",
    "        \n",
    "        res = [0, 0]\n",
    "        predict = []\n",
    "        answer = []\n",
    "        for (i,x) in enumerate(X):\n",
    "            if y[i] == 1:\n",
    "                bord = max(bord, sum((bayes._probs[1].get(k, bayes._alpha) * v for (k,v) in x.items())))\n",
    "            res[y[i]] += bayes.predict(X[i]) != y[i]\n",
    "            predict.append(bayes.predict(X[i]))\n",
    "            answer.append(y[i])\n",
    "        return res, f1_score(predict, answer)"
   ]
  },
  {
   "cell_type": "code",
   "execution_count": 40,
   "metadata": {},
   "outputs": [
    {
     "name": "stdout",
     "output_type": "stream",
     "text": [
      "-170.631003814\n"
     ]
    }
   ],
   "source": [
    "print(bord)"
   ]
  },
  {
   "cell_type": "code",
   "execution_count": null,
   "metadata": {
    "collapsed": true
   },
   "outputs": [],
   "source": []
  },
  {
   "cell_type": "code",
   "execution_count": 41,
   "metadata": {
    "scrolled": true
   },
   "outputs": [
    {
     "name": "stdout",
     "output_type": "stream",
     "text": [
      "Spam is Legit 0\n",
      "Legit is Spam 10\n",
      "F1  0.883720930233\n",
      "Spam is Legit 0\n",
      "Legit is Spam 8\n",
      "F1  0.909090909091\n",
      "Spam is Legit 0\n",
      "Legit is Spam 5\n",
      "F1  0.945054945055\n",
      "Spam is Legit 0\n",
      "Legit is Spam 8\n",
      "F1  0.909090909091\n",
      "Spam is Legit 0\n",
      "Legit is Spam 8\n",
      "F1  0.909090909091\n",
      "Spam is Legit 0\n",
      "Legit is Spam 6\n",
      "F1  0.933333333333\n",
      "Spam is Legit 0\n",
      "Legit is Spam 8\n",
      "F1  0.909090909091\n",
      "Spam is Legit 0\n",
      "Legit is Spam 7\n",
      "F1  0.921348314607\n",
      "Spam is Legit 0\n",
      "Legit is Spam 8\n",
      "F1  0.909090909091\n",
      "Spam is Legit 0\n",
      "Legit is Spam 6\n",
      "F1  0.933333333333\n",
      "Avg F1 score: 0.9162245402015458\n"
     ]
    }
   ],
   "source": [
    "f1_sum = 0\n",
    "for i in range(len(folds)):\n",
    "    x, y, t_x, t_y = make_test(i)\n",
    "    bayes = MultinomialNaiveBayes(10**-7, -170.631)\n",
    "    bayes.fit(x, y)\n",
    "    misses, f1 = score(t_x, t_y, bayes)\n",
    "    print(\"Spam is Legit\", misses[0])\n",
    "    print(\"Legit is Spam\", misses[1])\n",
    "    print(\"F1 \", f1)\n",
    "    f1_sum += f1\n",
    "print('Avg F1 score: {}'.format(f1_sum / len(folds)))"
   ]
  },
  {
   "cell_type": "code",
   "execution_count": 42,
   "metadata": {},
   "outputs": [
    {
     "name": "stdout",
     "output_type": "stream",
     "text": [
      "AUC: 0.9255464480874322\n"
     ]
    },
    {
     "data": {
      "image/png": "[encoded data removed]",
      "text/plain": [
       "<matplotlib.figure.Figure at 0x1a0796bef0>"
      ]
     },
     "metadata": {},
     "output_type": "display_data"
    }
   ],
   "source": [
    "x, y, t_x, t_y = make_test(1)\n",
    "roc = [(0, 0)]\n",
    "pos = len([y_i for y_i in t_y if y_i == 1])\n",
    "neg = len([y_i for y_i in t_y if y_i == 0])\n",
    "bayes = MultinomialNaiveBayes(10**-7, -170.631)\n",
    "bayes.fit(x, y)\n",
    "auc = 0\n",
    "xy = sorted(list(zip(t_x, t_y)), key=lambda e: not bayes.predict(e[0]))\n",
    "for (x_pr, y_pr) in xy:\n",
    "    if y_pr == 0:\n",
    "        roc.append((roc[-1][0] + 1.0 / neg, roc[-1][1]))\n",
    "        auc += roc[-1][1] / neg\n",
    "    else:\n",
    "        roc.append((roc[-1][0], roc[-1][1] + 1.0 / pos))\n",
    "print('AUC: {}'.format(auc))\n",
    "plt.plot(*zip(*roc))\n",
    "plt.show()\n",
    "    "
   ]
  },
  {
   "cell_type": "code",
   "execution_count": null,
   "metadata": {
    "collapsed": true
   },
   "outputs": [],
   "source": []
  }
 ],
 "metadata": {
  "anaconda-cloud": {},
  "kernelspec": {
   "display_name": "Python [conda root]",
   "language": "python",
   "name": "conda-root-py"
  },
  "language_info": {
   "codemirror_mode": {
    "name": "ipython",
    "version": 3
   },
   "file_extension": ".py",
   "mimetype": "text/x-python",
   "name": "python",
   "nbconvert_exporter": "python",
   "pygments_lexer": "ipython3",
   "version": "3.5.4"
  }
 },
 "nbformat": 4,
 "nbformat_minor": 2
}
