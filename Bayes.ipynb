{
 "cells": [
  {
   "cell_type": "code",
   "execution_count": 40,
   "metadata": {},
   "outputs": [],
   "source": [
    "%reload_ext autoreload\n",
    "%autoreload 2\n",
    "from itertools import chain\n",
    "from os import listdir\n",
    "from collections import defaultdict\n",
    "from NaiveBayes import MultinomialNaiveBayes\n",
    "from preprocessing import bag_of_words"
   ]
  },
  {
   "cell_type": "code",
   "execution_count": 41,
   "metadata": {
    "collapsed": true
   },
   "outputs": [],
   "source": [
    "folds = sorted([(int(a[4:]), []) for a in listdir('pu1/') if a[0] != '.'])"
   ]
  },
  {
   "cell_type": "code",
   "execution_count": 42,
   "metadata": {
    "collapsed": true
   },
   "outputs": [],
   "source": [
    "for fold in folds:\n",
    "    d = 'pu1/part{}/'.format(fold[0])\n",
    "    for f_name in listdir(d):\n",
    "        with open(d + f_name) as f:\n",
    "            lines = [line.rstrip('\\n') for line in f]\n",
    "            subj = lines[0].lstrip('Subject: ')\n",
    "            text = lines[2:][0]\n",
    "            fold[1].append([f_name.find('spm') >= 0, subj, text])\n",
    "folds = [l for (ignore, l) in folds]"
   ]
  },
  {
   "cell_type": "code",
   "execution_count": 43,
   "metadata": {},
   "outputs": [],
   "source": [
    "bigfold = list(chain(*folds[:-1]))"
   ]
  },
  {
   "cell_type": "code",
   "execution_count": 44,
   "metadata": {},
   "outputs": [],
   "source": [
    "texts = [bag_of_words(a[2]) for a in bigfold]\n",
    "subjects = [bag_of_words(a[1]) for a in bigfold]\n",
    "y = [a[0] for a in bigfold]\n",
    "x = []\n",
    "for (i, t) in enumerate(texts):\n",
    "    x.append({k: t.get(k, 0) + subjects[i].get(k, 0) * 1.2 for k in set(t) | set(subjects[i])})\n",
    "    \n",
    "t_text = [bag_of_words(a[2]) for a in folds[-1]]\n",
    "t_subj = [bag_of_words(a[1]) for a in folds[-1]]\n",
    "t_y = [a[0] for a in folds[-1]]\n",
    "t_x = []\n",
    "for (i, t) in enumerate(t_subj):\n",
    "    t_x.append({ k: t_text[i].get(k, 0) + t.get(k, 0) * 1.2 for k in set(t) | set(t_text[i]) })"
   ]
  },
  {
   "cell_type": "code",
   "execution_count": 45,
   "metadata": {
    "collapsed": true
   },
   "outputs": [],
   "source": [
    "bayes = MultinomialNaiveBayes(0.5, 5.0)\n",
    "bayes.fit(x, y)"
   ]
  },
  {
   "cell_type": "code",
   "execution_count": 46,
   "metadata": {
    "collapsed": true
   },
   "outputs": [],
   "source": [
    "def score(X, y):\n",
    "        res = [0, 0]\n",
    "        for (i,x) in enumerate(X):\n",
    "            res[y[i]] += bayes.predict(X[i]) != y[i]\n",
    "        return res"
   ]
  },
  {
   "cell_type": "code",
   "execution_count": 47,
   "metadata": {},
   "outputs": [
    {
     "data": {
      "text/plain": [
       "[16, 4]"
      ]
     },
     "execution_count": 47,
     "metadata": {},
     "output_type": "execute_result"
    }
   ],
   "source": [
    "score(x, y)"
   ]
  },
  {
   "cell_type": "code",
   "execution_count": 39,
   "metadata": {},
   "outputs": [
    {
     "name": "stdout",
     "output_type": "stream",
     "text": [
      "False True\n",
      "False True\n",
      "False True\n",
      "False True\n",
      "True False\n",
      "True False\n",
      "True False\n",
      "False True\n",
      "False True\n",
      "False False\n",
      "False True\n",
      "True False\n",
      "True False\n",
      "True False\n",
      "False True\n",
      "True False\n",
      "True False\n",
      "True False\n",
      "True False\n",
      "False True\n",
      "True False\n",
      "True False\n",
      "True False\n",
      "False True\n",
      "True False\n"
     ]
    }
   ],
   "source": [
    "score(t_x, t_y)"
   ]
  },
  {
   "cell_type": "code",
   "execution_count": null,
   "metadata": {
    "collapsed": true
   },
   "outputs": [],
   "source": []
  }
 ],
 "metadata": {
  "anaconda-cloud": {},
  "kernelspec": {
   "display_name": "Python [conda root]",
   "language": "python",
   "name": "conda-root-py"
  },
  "language_info": {
   "codemirror_mode": {
    "name": "ipython",
    "version": 3
   },
   "file_extension": ".py",
   "mimetype": "text/x-python",
   "name": "python",
   "nbconvert_exporter": "python",
   "pygments_lexer": "ipython3",
   "version": "3.5.4"
  }
 },
 "nbformat": 4,
 "nbformat_minor": 2
}
